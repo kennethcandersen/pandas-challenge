{
 "cells": [
  {
   "cell_type": "markdown",
   "metadata": {},
   "source": [
    "### Note\n",
    "* Instructions have been included for each segment. You do not have to follow them exactly, but they are included to help you think through the steps."
   ]
  },
  {
   "cell_type": "code",
   "execution_count": 250,
   "metadata": {
    "scrolled": true
   },
   "outputs": [
    {
     "data": {
      "text/html": [
       "<div>\n",
       "<style scoped>\n",
       "    .dataframe tbody tr th:only-of-type {\n",
       "        vertical-align: middle;\n",
       "    }\n",
       "\n",
       "    .dataframe tbody tr th {\n",
       "        vertical-align: top;\n",
       "    }\n",
       "\n",
       "    .dataframe thead th {\n",
       "        text-align: right;\n",
       "    }\n",
       "</style>\n",
       "<table border=\"1\" class=\"dataframe\">\n",
       "  <thead>\n",
       "    <tr style=\"text-align: right;\">\n",
       "      <th></th>\n",
       "      <th>Purchase ID</th>\n",
       "      <th>SN</th>\n",
       "      <th>Age</th>\n",
       "      <th>Gender</th>\n",
       "      <th>Item ID</th>\n",
       "      <th>Item Name</th>\n",
       "      <th>Price</th>\n",
       "    </tr>\n",
       "  </thead>\n",
       "  <tbody>\n",
       "    <tr>\n",
       "      <th>0</th>\n",
       "      <td>0</td>\n",
       "      <td>Lisim78</td>\n",
       "      <td>20</td>\n",
       "      <td>Male</td>\n",
       "      <td>108</td>\n",
       "      <td>Extraction, Quickblade Of Trembling Hands</td>\n",
       "      <td>3.53</td>\n",
       "    </tr>\n",
       "    <tr>\n",
       "      <th>1</th>\n",
       "      <td>1</td>\n",
       "      <td>Lisovynya38</td>\n",
       "      <td>40</td>\n",
       "      <td>Male</td>\n",
       "      <td>143</td>\n",
       "      <td>Frenzied Scimitar</td>\n",
       "      <td>1.56</td>\n",
       "    </tr>\n",
       "    <tr>\n",
       "      <th>2</th>\n",
       "      <td>2</td>\n",
       "      <td>Ithergue48</td>\n",
       "      <td>24</td>\n",
       "      <td>Male</td>\n",
       "      <td>92</td>\n",
       "      <td>Final Critic</td>\n",
       "      <td>4.88</td>\n",
       "    </tr>\n",
       "    <tr>\n",
       "      <th>3</th>\n",
       "      <td>3</td>\n",
       "      <td>Chamassasya86</td>\n",
       "      <td>24</td>\n",
       "      <td>Male</td>\n",
       "      <td>100</td>\n",
       "      <td>Blindscythe</td>\n",
       "      <td>3.27</td>\n",
       "    </tr>\n",
       "    <tr>\n",
       "      <th>4</th>\n",
       "      <td>4</td>\n",
       "      <td>Iskosia90</td>\n",
       "      <td>23</td>\n",
       "      <td>Male</td>\n",
       "      <td>131</td>\n",
       "      <td>Fury</td>\n",
       "      <td>1.44</td>\n",
       "    </tr>\n",
       "  </tbody>\n",
       "</table>\n",
       "</div>"
      ],
      "text/plain": [
       "   Purchase ID             SN  Age Gender  Item ID  \\\n",
       "0            0        Lisim78   20   Male      108   \n",
       "1            1    Lisovynya38   40   Male      143   \n",
       "2            2     Ithergue48   24   Male       92   \n",
       "3            3  Chamassasya86   24   Male      100   \n",
       "4            4      Iskosia90   23   Male      131   \n",
       "\n",
       "                                   Item Name  Price  \n",
       "0  Extraction, Quickblade Of Trembling Hands   3.53  \n",
       "1                          Frenzied Scimitar   1.56  \n",
       "2                               Final Critic   4.88  \n",
       "3                                Blindscythe   3.27  \n",
       "4                                       Fury   1.44  "
      ]
     },
     "execution_count": 250,
     "metadata": {},
     "output_type": "execute_result"
    }
   ],
   "source": [
    "# Dependencies and Setup\n",
    "import pandas as pd\n",
    "\n",
    "# File to Load (Remember to Change These)\n",
    "file_to_load = \"Resources/purchase_data.csv\"\n",
    "\n",
    "# Read Purchasing File and store into Pandas data frame\n",
    "purchase_data_df = pd.read_csv(file_to_load)\n",
    "purchase_data_df.head()"
   ]
  },
  {
   "cell_type": "code",
   "execution_count": 251,
   "metadata": {},
   "outputs": [],
   "source": [
    "# NOTE TO GRADER: This following section is to make formatting easier, it's a trick I found online \n",
    "#                 looking at documentation. #I'll be calling this function everytime I print, and \n",
    "#                 that way I don't need to modify the actual dataframe for the sake of formatting: \n",
    "\n",
    "pd.options.display.float_format = '{:,.2f}'.format\n",
    "\n",
    "format_dict = {\n",
    "    'Percentage of Players': '{:.2f}%', 'Average Price' : '${:,.2f}', 'Total Purchase Value' : '${:,.2f}', \n",
    "    'Avg Total Purchase per Person' : '${:,.2f}', 'Item Price' : '${:,.2f}', \n",
    "    'Price' : '${:,.2f}', 'Average Purchase Price': '${:,.2f}', 'Total Revenue' : '${:,.2f}' }"
   ]
  },
  {
   "cell_type": "code",
   "execution_count": 252,
   "metadata": {},
   "outputs": [
    {
     "data": {
      "text/html": [
       "<div>\n",
       "<style scoped>\n",
       "    .dataframe tbody tr th:only-of-type {\n",
       "        vertical-align: middle;\n",
       "    }\n",
       "\n",
       "    .dataframe tbody tr th {\n",
       "        vertical-align: top;\n",
       "    }\n",
       "\n",
       "    .dataframe thead th {\n",
       "        text-align: right;\n",
       "    }\n",
       "</style>\n",
       "<table border=\"1\" class=\"dataframe\">\n",
       "  <thead>\n",
       "    <tr style=\"text-align: right;\">\n",
       "      <th></th>\n",
       "      <th>Purchase ID</th>\n",
       "      <th>SN</th>\n",
       "      <th>Age</th>\n",
       "      <th>Gender</th>\n",
       "      <th>Item ID</th>\n",
       "      <th>Item Name</th>\n",
       "      <th>Price</th>\n",
       "      <th>Age Ranges</th>\n",
       "    </tr>\n",
       "  </thead>\n",
       "  <tbody>\n",
       "    <tr>\n",
       "      <th>0</th>\n",
       "      <td>0</td>\n",
       "      <td>Lisim78</td>\n",
       "      <td>20</td>\n",
       "      <td>Male</td>\n",
       "      <td>108</td>\n",
       "      <td>Extraction, Quickblade Of Trembling Hands</td>\n",
       "      <td>3.53</td>\n",
       "      <td>20-24</td>\n",
       "    </tr>\n",
       "    <tr>\n",
       "      <th>1</th>\n",
       "      <td>1</td>\n",
       "      <td>Lisovynya38</td>\n",
       "      <td>40</td>\n",
       "      <td>Male</td>\n",
       "      <td>143</td>\n",
       "      <td>Frenzied Scimitar</td>\n",
       "      <td>1.56</td>\n",
       "      <td>40+</td>\n",
       "    </tr>\n",
       "    <tr>\n",
       "      <th>2</th>\n",
       "      <td>2</td>\n",
       "      <td>Ithergue48</td>\n",
       "      <td>24</td>\n",
       "      <td>Male</td>\n",
       "      <td>92</td>\n",
       "      <td>Final Critic</td>\n",
       "      <td>4.88</td>\n",
       "      <td>20-24</td>\n",
       "    </tr>\n",
       "    <tr>\n",
       "      <th>3</th>\n",
       "      <td>3</td>\n",
       "      <td>Chamassasya86</td>\n",
       "      <td>24</td>\n",
       "      <td>Male</td>\n",
       "      <td>100</td>\n",
       "      <td>Blindscythe</td>\n",
       "      <td>3.27</td>\n",
       "      <td>20-24</td>\n",
       "    </tr>\n",
       "    <tr>\n",
       "      <th>4</th>\n",
       "      <td>4</td>\n",
       "      <td>Iskosia90</td>\n",
       "      <td>23</td>\n",
       "      <td>Male</td>\n",
       "      <td>131</td>\n",
       "      <td>Fury</td>\n",
       "      <td>1.44</td>\n",
       "      <td>20-24</td>\n",
       "    </tr>\n",
       "  </tbody>\n",
       "</table>\n",
       "</div>"
      ],
      "text/plain": [
       "   Purchase ID             SN  Age Gender  Item ID  \\\n",
       "0            0        Lisim78   20   Male      108   \n",
       "1            1    Lisovynya38   40   Male      143   \n",
       "2            2     Ithergue48   24   Male       92   \n",
       "3            3  Chamassasya86   24   Male      100   \n",
       "4            4      Iskosia90   23   Male      131   \n",
       "\n",
       "                                   Item Name  Price Age Ranges  \n",
       "0  Extraction, Quickblade Of Trembling Hands   3.53      20-24  \n",
       "1                          Frenzied Scimitar   1.56        40+  \n",
       "2                               Final Critic   4.88      20-24  \n",
       "3                                Blindscythe   3.27      20-24  \n",
       "4                                       Fury   1.44      20-24  "
      ]
     },
     "execution_count": 252,
     "metadata": {},
     "output_type": "execute_result"
    }
   ],
   "source": [
    "# NOTE TO GRADER: \"Why is this section here?!\" you ask? I'm doing the pd.cut here so that when I create the \n",
    "#                 Unique Player dataframe below, this new \"Age Range\" column will go with it. That way \n",
    "#                 I don't have to do the pd.cut twice farther below when I get the Age analysis segment. \n",
    "\n",
    "bins = [0, 9, 14, 19, 24, 29, 34, 39, max(purchase_data_df[\"Age\"]+1)]\n",
    "names = [\"<10\", \"10-14\", \"15-19\", \"20-24\", \"25-29\", \"30-34\", \"35-39\", \"40+\"]\n",
    "\n",
    "purchase_data_df[\"Age Ranges\"] = pd.cut(purchase_data_df[\"Age\"], bins, labels=names, include_lowest=True)\n",
    "purchase_data_df.head()"
   ]
  },
  {
   "cell_type": "markdown",
   "metadata": {},
   "source": [
    "## Player Count"
   ]
  },
  {
   "cell_type": "markdown",
   "metadata": {},
   "source": [
    "* Display the total number of players\n"
   ]
  },
  {
   "cell_type": "code",
   "execution_count": 253,
   "metadata": {},
   "outputs": [
    {
     "data": {
      "text/html": [
       "<div>\n",
       "<style scoped>\n",
       "    .dataframe tbody tr th:only-of-type {\n",
       "        vertical-align: middle;\n",
       "    }\n",
       "\n",
       "    .dataframe tbody tr th {\n",
       "        vertical-align: top;\n",
       "    }\n",
       "\n",
       "    .dataframe thead th {\n",
       "        text-align: right;\n",
       "    }\n",
       "</style>\n",
       "<table border=\"1\" class=\"dataframe\">\n",
       "  <thead>\n",
       "    <tr style=\"text-align: right;\">\n",
       "      <th></th>\n",
       "      <th>Total Players</th>\n",
       "    </tr>\n",
       "  </thead>\n",
       "  <tbody>\n",
       "    <tr>\n",
       "      <th>0</th>\n",
       "      <td>576</td>\n",
       "    </tr>\n",
       "  </tbody>\n",
       "</table>\n",
       "</div>"
      ],
      "text/plain": [
       "   Total Players\n",
       "0            576"
      ]
     },
     "execution_count": 253,
     "metadata": {},
     "output_type": "execute_result"
    }
   ],
   "source": [
    "players_uniq_df = purchase_data_df.drop_duplicates(subset=['SN']) # Create dataframe of unique players only. Note\n",
    "                                                                  # that the Age Ranges column will be a part of this too. \n",
    "\n",
    "player_count = len(players_uniq_df) # Get number of unique players. This variable is important, segments below will\n",
    "                                    # reference this often.\n",
    "\n",
    "player_count_summary = pd.DataFrame({\"Total Players\" : [player_count]}) # Create new summary dataframe. \n",
    "\n",
    "player_count_summary # Print the dataframe"
   ]
  },
  {
   "cell_type": "markdown",
   "metadata": {},
   "source": [
    "## Purchasing Analysis (Total)"
   ]
  },
  {
   "cell_type": "markdown",
   "metadata": {},
   "source": [
    "* Run basic calculations to obtain number of unique items, average price, etc.\n",
    "\n",
    "\n",
    "* Create a summary data frame to hold the results\n",
    "\n",
    "\n",
    "* Optional: give the displayed data cleaner formatting\n",
    "\n",
    "\n",
    "* Display the summary data frame\n"
   ]
  },
  {
   "cell_type": "code",
   "execution_count": 254,
   "metadata": {
    "scrolled": true
   },
   "outputs": [
    {
     "data": {
      "text/html": [
       "<style  type=\"text/css\" >\n",
       "</style><table id=\"T_8ef48_\" ><thead>    <tr>        <th class=\"blank level0\" ></th>        <th class=\"col_heading level0 col0\" >Number of Unique Items</th>        <th class=\"col_heading level0 col1\" >Average Purchase Price</th>        <th class=\"col_heading level0 col2\" >Number of Purchases</th>        <th class=\"col_heading level0 col3\" >Total Revenue</th>    </tr></thead><tbody>\n",
       "                <tr>\n",
       "                        <th id=\"T_8ef48_level0_row0\" class=\"row_heading level0 row0\" >0</th>\n",
       "                        <td id=\"T_8ef48_row0_col0\" class=\"data row0 col0\" >179</td>\n",
       "                        <td id=\"T_8ef48_row0_col1\" class=\"data row0 col1\" >$3.05</td>\n",
       "                        <td id=\"T_8ef48_row0_col2\" class=\"data row0 col2\" >780</td>\n",
       "                        <td id=\"T_8ef48_row0_col3\" class=\"data row0 col3\" >$2,379.77</td>\n",
       "            </tr>\n",
       "    </tbody></table>"
      ],
      "text/plain": [
       "<pandas.io.formats.style.Styler at 0x7fa2b93c46a0>"
      ]
     },
     "execution_count": 254,
     "metadata": {},
     "output_type": "execute_result"
    }
   ],
   "source": [
    "items_uniq = purchase_data_df.drop_duplicates(subset=['Item ID']) # Get list of unique items\n",
    "\n",
    "purchases_count = len(purchase_data_df) # Get total number of purchases\n",
    "\n",
    "items_uniq_count = len(items_uniq) # Get total number of unique purchases\n",
    "\n",
    "total_rev = sum(purchase_data_df[\"Price\"]) # Get total revenue\n",
    "\n",
    "ave_price = total_rev / purchases_count # Calculate average price per sale\n",
    "\n",
    "summary_df = pd.DataFrame({\"Number of Unique Items\": [items_uniq_count],  # Configure DataFrame to display\n",
    "                           \n",
    "                           \"Average Purchase Price\" : [ave_price], \n",
    "                           \n",
    "                           \"Number of Purchases\" : [purchases_count], \n",
    "                          \n",
    "                           \"Total Revenue\" : [total_rev]     } )\n",
    "\n",
    "summary_df.style.format(format_dict) # Print calling the style format function \n",
    "                                     # at the beginning of this notebook\n"
   ]
  },
  {
   "cell_type": "markdown",
   "metadata": {},
   "source": [
    "## Gender Demographics"
   ]
  },
  {
   "cell_type": "markdown",
   "metadata": {},
   "source": [
    "* Percentage and Count of Male Players\n",
    "\n",
    "\n",
    "* Percentage and Count of Female Players\n",
    "\n",
    "\n",
    "* Percentage and Count of Other / Non-Disclosed\n",
    "\n",
    "\n"
   ]
  },
  {
   "cell_type": "code",
   "execution_count": 255,
   "metadata": {},
   "outputs": [
    {
     "data": {
      "text/html": [
       "<style  type=\"text/css\" >\n",
       "</style><table id=\"T_50493_\" ><thead>    <tr>        <th class=\"blank level0\" ></th>        <th class=\"col_heading level0 col0\" >Total Count</th>        <th class=\"col_heading level0 col1\" >Percentage of Players</th>    </tr>    <tr>        <th class=\"index_name level0\" >Gender</th>        <th class=\"blank\" ></th>        <th class=\"blank\" ></th>    </tr></thead><tbody>\n",
       "                <tr>\n",
       "                        <th id=\"T_50493_level0_row0\" class=\"row_heading level0 row0\" >Female</th>\n",
       "                        <td id=\"T_50493_row0_col0\" class=\"data row0 col0\" >81</td>\n",
       "                        <td id=\"T_50493_row0_col1\" class=\"data row0 col1\" >14.06%</td>\n",
       "            </tr>\n",
       "            <tr>\n",
       "                        <th id=\"T_50493_level0_row1\" class=\"row_heading level0 row1\" >Male</th>\n",
       "                        <td id=\"T_50493_row1_col0\" class=\"data row1 col0\" >484</td>\n",
       "                        <td id=\"T_50493_row1_col1\" class=\"data row1 col1\" >84.03%</td>\n",
       "            </tr>\n",
       "            <tr>\n",
       "                        <th id=\"T_50493_level0_row2\" class=\"row_heading level0 row2\" >Other / Non-Disclosed</th>\n",
       "                        <td id=\"T_50493_row2_col0\" class=\"data row2 col0\" >11</td>\n",
       "                        <td id=\"T_50493_row2_col1\" class=\"data row2 col1\" >1.91%</td>\n",
       "            </tr>\n",
       "    </tbody></table>"
      ],
      "text/plain": [
       "<pandas.io.formats.style.Styler at 0x7fa2b93f4eb0>"
      ]
     },
     "execution_count": 255,
     "metadata": {},
     "output_type": "execute_result"
    }
   ],
   "source": [
    "gender_groupby = players_uniq_df.groupby([\"Gender\"]) # Get list of unique players by gender\n",
    "\n",
    "gender_demog_df = pd.DataFrame({\"Total Count\": gender_groupby[\"SN\"].count(), # Get total number of players by gender\n",
    "                                \n",
    "                                \"Percentage of Players\" : gender_groupby['SN'].count() / \n",
    "                                    player_count *100 }) # Get percentage of players by gender\n",
    "\n",
    "gender_demog_df.style.format(format_dict) # Print calling the style format function \n",
    "                                          # at the beginning of this notebook\n",
    "\n"
   ]
  },
  {
   "cell_type": "markdown",
   "metadata": {},
   "source": [
    "\n",
    "## Purchasing Analysis (Gender)"
   ]
  },
  {
   "cell_type": "markdown",
   "metadata": {},
   "source": [
    "* Run basic calculations to obtain purchase count, avg. purchase price, avg. purchase total per person etc. by gender\n",
    "\n",
    "\n",
    "\n",
    "\n",
    "* Create a summary data frame to hold the results\n",
    "\n",
    "\n",
    "* Optional: give the displayed data cleaner formatting\n",
    "\n",
    "\n",
    "* Display the summary data frame"
   ]
  },
  {
   "cell_type": "code",
   "execution_count": 256,
   "metadata": {},
   "outputs": [
    {
     "data": {
      "text/html": [
       "<style  type=\"text/css\" >\n",
       "</style><table id=\"T_5ab1e_\" ><thead>    <tr>        <th class=\"blank level0\" ></th>        <th class=\"col_heading level0 col0\" >Purchase Count</th>        <th class=\"col_heading level0 col1\" >Average Purchase Price</th>        <th class=\"col_heading level0 col2\" >Total Purchase Value</th>        <th class=\"col_heading level0 col3\" >Avg Total Purchase per Person</th>    </tr>    <tr>        <th class=\"index_name level0\" >Gender</th>        <th class=\"blank\" ></th>        <th class=\"blank\" ></th>        <th class=\"blank\" ></th>        <th class=\"blank\" ></th>    </tr></thead><tbody>\n",
       "                <tr>\n",
       "                        <th id=\"T_5ab1e_level0_row0\" class=\"row_heading level0 row0\" >Female</th>\n",
       "                        <td id=\"T_5ab1e_row0_col0\" class=\"data row0 col0\" >113</td>\n",
       "                        <td id=\"T_5ab1e_row0_col1\" class=\"data row0 col1\" >$3.20</td>\n",
       "                        <td id=\"T_5ab1e_row0_col2\" class=\"data row0 col2\" >$361.94</td>\n",
       "                        <td id=\"T_5ab1e_row0_col3\" class=\"data row0 col3\" >$4.47</td>\n",
       "            </tr>\n",
       "            <tr>\n",
       "                        <th id=\"T_5ab1e_level0_row1\" class=\"row_heading level0 row1\" >Male</th>\n",
       "                        <td id=\"T_5ab1e_row1_col0\" class=\"data row1 col0\" >652</td>\n",
       "                        <td id=\"T_5ab1e_row1_col1\" class=\"data row1 col1\" >$3.02</td>\n",
       "                        <td id=\"T_5ab1e_row1_col2\" class=\"data row1 col2\" >$1,967.64</td>\n",
       "                        <td id=\"T_5ab1e_row1_col3\" class=\"data row1 col3\" >$4.07</td>\n",
       "            </tr>\n",
       "            <tr>\n",
       "                        <th id=\"T_5ab1e_level0_row2\" class=\"row_heading level0 row2\" >Other / Non-Disclosed</th>\n",
       "                        <td id=\"T_5ab1e_row2_col0\" class=\"data row2 col0\" >15</td>\n",
       "                        <td id=\"T_5ab1e_row2_col1\" class=\"data row2 col1\" >$3.35</td>\n",
       "                        <td id=\"T_5ab1e_row2_col2\" class=\"data row2 col2\" >$50.19</td>\n",
       "                        <td id=\"T_5ab1e_row2_col3\" class=\"data row2 col3\" >$4.56</td>\n",
       "            </tr>\n",
       "    </tbody></table>"
      ],
      "text/plain": [
       "<pandas.io.formats.style.Styler at 0x7fa2d91e82e0>"
      ]
     },
     "execution_count": 256,
     "metadata": {},
     "output_type": "execute_result"
    }
   ],
   "source": [
    "purchases_gender_groupby = purchase_data_df.groupby([\"Gender\"]) # Create groupby to focus on Gender\n",
    "\n",
    "gender_purch_df = pd.DataFrame({\"Purchase Count\": \n",
    "                                purchases_gender_groupby[\"Purchase ID\"].count(), # Total purchase by gender using .count()\n",
    "                                \n",
    "                                \"Average Purchase Price\" :                       \n",
    "                                purchases_gender_groupby[\"Price\"].mean(), # Average purchase price using .mean()\n",
    "                                \n",
    "                                 \"Total Purchase Value\" :                        \n",
    "                                purchases_gender_groupby[\"Price\"].sum(),  # Total purchase value using .sum()\n",
    "                          \n",
    "                                \"Avg Total Purchase per Person\" :          # Total purchase value\n",
    "                                 purchases_gender_groupby[\"Price\"].sum() / # using data from the demographic dataframe\n",
    "                                 gender_demog_df[\"Total Count\"]})          # in the previous segment\n",
    "\n",
    "gender_purch_df.style.format(format_dict) # Print calling the style format function \n",
    "                                          # at the beginning of this notebook\n"
   ]
  },
  {
   "cell_type": "markdown",
   "metadata": {},
   "source": [
    "## Age Demographics"
   ]
  },
  {
   "cell_type": "markdown",
   "metadata": {},
   "source": [
    "* Establish bins for ages\n",
    "\n",
    "\n",
    "* Categorize the existing players using the age bins. Hint: use pd.cut()\n",
    "\n",
    "\n",
    "* Calculate the numbers and percentages by age group\n",
    "\n",
    "\n",
    "* Create a summary data frame to hold the results\n",
    "\n",
    "\n",
    "* Optional: round the percentage column to two decimal points\n",
    "\n",
    "\n",
    "* Display Age Demographics Table\n"
   ]
  },
  {
   "cell_type": "code",
   "execution_count": 257,
   "metadata": {},
   "outputs": [
    {
     "data": {
      "text/html": [
       "<style  type=\"text/css\" >\n",
       "</style><table id=\"T_61b1c_\" ><thead>    <tr>        <th class=\"blank level0\" ></th>        <th class=\"col_heading level0 col0\" >Total Count</th>        <th class=\"col_heading level0 col1\" >Percentage of Players</th>    </tr>    <tr>        <th class=\"index_name level0\" >Age Ranges</th>        <th class=\"blank\" ></th>        <th class=\"blank\" ></th>    </tr></thead><tbody>\n",
       "                <tr>\n",
       "                        <th id=\"T_61b1c_level0_row0\" class=\"row_heading level0 row0\" ><10</th>\n",
       "                        <td id=\"T_61b1c_row0_col0\" class=\"data row0 col0\" >17</td>\n",
       "                        <td id=\"T_61b1c_row0_col1\" class=\"data row0 col1\" >2.95%</td>\n",
       "            </tr>\n",
       "            <tr>\n",
       "                        <th id=\"T_61b1c_level0_row1\" class=\"row_heading level0 row1\" >10-14</th>\n",
       "                        <td id=\"T_61b1c_row1_col0\" class=\"data row1 col0\" >22</td>\n",
       "                        <td id=\"T_61b1c_row1_col1\" class=\"data row1 col1\" >3.82%</td>\n",
       "            </tr>\n",
       "            <tr>\n",
       "                        <th id=\"T_61b1c_level0_row2\" class=\"row_heading level0 row2\" >15-19</th>\n",
       "                        <td id=\"T_61b1c_row2_col0\" class=\"data row2 col0\" >107</td>\n",
       "                        <td id=\"T_61b1c_row2_col1\" class=\"data row2 col1\" >18.58%</td>\n",
       "            </tr>\n",
       "            <tr>\n",
       "                        <th id=\"T_61b1c_level0_row3\" class=\"row_heading level0 row3\" >20-24</th>\n",
       "                        <td id=\"T_61b1c_row3_col0\" class=\"data row3 col0\" >258</td>\n",
       "                        <td id=\"T_61b1c_row3_col1\" class=\"data row3 col1\" >44.79%</td>\n",
       "            </tr>\n",
       "            <tr>\n",
       "                        <th id=\"T_61b1c_level0_row4\" class=\"row_heading level0 row4\" >25-29</th>\n",
       "                        <td id=\"T_61b1c_row4_col0\" class=\"data row4 col0\" >77</td>\n",
       "                        <td id=\"T_61b1c_row4_col1\" class=\"data row4 col1\" >13.37%</td>\n",
       "            </tr>\n",
       "            <tr>\n",
       "                        <th id=\"T_61b1c_level0_row5\" class=\"row_heading level0 row5\" >30-34</th>\n",
       "                        <td id=\"T_61b1c_row5_col0\" class=\"data row5 col0\" >52</td>\n",
       "                        <td id=\"T_61b1c_row5_col1\" class=\"data row5 col1\" >9.03%</td>\n",
       "            </tr>\n",
       "            <tr>\n",
       "                        <th id=\"T_61b1c_level0_row6\" class=\"row_heading level0 row6\" >35-39</th>\n",
       "                        <td id=\"T_61b1c_row6_col0\" class=\"data row6 col0\" >31</td>\n",
       "                        <td id=\"T_61b1c_row6_col1\" class=\"data row6 col1\" >5.38%</td>\n",
       "            </tr>\n",
       "            <tr>\n",
       "                        <th id=\"T_61b1c_level0_row7\" class=\"row_heading level0 row7\" >40+</th>\n",
       "                        <td id=\"T_61b1c_row7_col0\" class=\"data row7 col0\" >12</td>\n",
       "                        <td id=\"T_61b1c_row7_col1\" class=\"data row7 col1\" >2.08%</td>\n",
       "            </tr>\n",
       "    </tbody></table>"
      ],
      "text/plain": [
       "<pandas.io.formats.style.Styler at 0x7fa309a40d60>"
      ]
     },
     "execution_count": 257,
     "metadata": {},
     "output_type": "execute_result"
    }
   ],
   "source": [
    "age_groupby = players_uniq_df.groupby([\"Age Ranges\"]) # Create groupby focussing on Age Ranges. \n",
    "\n",
    "# \"But where's the Bin, Names, and pd.cut??!!\" you ask? Whoahoh! See the third field above, I took care of that \n",
    "# before creating a unique player version of the original dataframe. \n",
    "\n",
    "age_demog_df = pd.DataFrame({\"Total Count\": age_groupby[\"SN\"].count(), # Get total count of players by age\n",
    "                             \n",
    "                             \"Percentage of Players\" : age_groupby[\"SN\"].count() / \n",
    "                                                        player_count * 100})  # Get percentage of players by age\n",
    "\n",
    "age_demog_df.style.format(format_dict)    # Print calling the style format function \n",
    "                                          # at the beginning of this notebook"
   ]
  },
  {
   "cell_type": "markdown",
   "metadata": {},
   "source": []
  },
  {
   "cell_type": "markdown",
   "metadata": {},
   "source": [
    "* Bin the purchase_data data frame by age\n",
    "\n",
    "\n",
    "* Run basic calculations to obtain purchase count, avg. purchase price, avg. purchase total per person etc. in the table below\n",
    "\n",
    "\n",
    "* Create a summary data frame to hold the results\n",
    "\n",
    "\n",
    "* Optional: give the displayed data cleaner formatting\n",
    "\n",
    "\n",
    "* Display the summary data frame"
   ]
  },
  {
   "cell_type": "code",
   "execution_count": 258,
   "metadata": {},
   "outputs": [
    {
     "data": {
      "text/html": [
       "<style  type=\"text/css\" >\n",
       "</style><table id=\"T_0d909_\" ><thead>    <tr>        <th class=\"blank level0\" ></th>        <th class=\"col_heading level0 col0\" >Purchase Count</th>        <th class=\"col_heading level0 col1\" >Average Purchase Price</th>        <th class=\"col_heading level0 col2\" >Total Purchase Value</th>        <th class=\"col_heading level0 col3\" >Avg Total Purchase per Person</th>    </tr>    <tr>        <th class=\"index_name level0\" >Age Ranges</th>        <th class=\"blank\" ></th>        <th class=\"blank\" ></th>        <th class=\"blank\" ></th>        <th class=\"blank\" ></th>    </tr></thead><tbody>\n",
       "                <tr>\n",
       "                        <th id=\"T_0d909_level0_row0\" class=\"row_heading level0 row0\" ><10</th>\n",
       "                        <td id=\"T_0d909_row0_col0\" class=\"data row0 col0\" >23</td>\n",
       "                        <td id=\"T_0d909_row0_col1\" class=\"data row0 col1\" >$3.35</td>\n",
       "                        <td id=\"T_0d909_row0_col2\" class=\"data row0 col2\" >$77.13</td>\n",
       "                        <td id=\"T_0d909_row0_col3\" class=\"data row0 col3\" >$4.54</td>\n",
       "            </tr>\n",
       "            <tr>\n",
       "                        <th id=\"T_0d909_level0_row1\" class=\"row_heading level0 row1\" >10-14</th>\n",
       "                        <td id=\"T_0d909_row1_col0\" class=\"data row1 col0\" >28</td>\n",
       "                        <td id=\"T_0d909_row1_col1\" class=\"data row1 col1\" >$2.96</td>\n",
       "                        <td id=\"T_0d909_row1_col2\" class=\"data row1 col2\" >$82.78</td>\n",
       "                        <td id=\"T_0d909_row1_col3\" class=\"data row1 col3\" >$3.76</td>\n",
       "            </tr>\n",
       "            <tr>\n",
       "                        <th id=\"T_0d909_level0_row2\" class=\"row_heading level0 row2\" >15-19</th>\n",
       "                        <td id=\"T_0d909_row2_col0\" class=\"data row2 col0\" >136</td>\n",
       "                        <td id=\"T_0d909_row2_col1\" class=\"data row2 col1\" >$3.04</td>\n",
       "                        <td id=\"T_0d909_row2_col2\" class=\"data row2 col2\" >$412.89</td>\n",
       "                        <td id=\"T_0d909_row2_col3\" class=\"data row2 col3\" >$3.86</td>\n",
       "            </tr>\n",
       "            <tr>\n",
       "                        <th id=\"T_0d909_level0_row3\" class=\"row_heading level0 row3\" >20-24</th>\n",
       "                        <td id=\"T_0d909_row3_col0\" class=\"data row3 col0\" >365</td>\n",
       "                        <td id=\"T_0d909_row3_col1\" class=\"data row3 col1\" >$3.05</td>\n",
       "                        <td id=\"T_0d909_row3_col2\" class=\"data row3 col2\" >$1,114.06</td>\n",
       "                        <td id=\"T_0d909_row3_col3\" class=\"data row3 col3\" >$4.32</td>\n",
       "            </tr>\n",
       "            <tr>\n",
       "                        <th id=\"T_0d909_level0_row4\" class=\"row_heading level0 row4\" >25-29</th>\n",
       "                        <td id=\"T_0d909_row4_col0\" class=\"data row4 col0\" >101</td>\n",
       "                        <td id=\"T_0d909_row4_col1\" class=\"data row4 col1\" >$2.90</td>\n",
       "                        <td id=\"T_0d909_row4_col2\" class=\"data row4 col2\" >$293.00</td>\n",
       "                        <td id=\"T_0d909_row4_col3\" class=\"data row4 col3\" >$3.81</td>\n",
       "            </tr>\n",
       "            <tr>\n",
       "                        <th id=\"T_0d909_level0_row5\" class=\"row_heading level0 row5\" >30-34</th>\n",
       "                        <td id=\"T_0d909_row5_col0\" class=\"data row5 col0\" >73</td>\n",
       "                        <td id=\"T_0d909_row5_col1\" class=\"data row5 col1\" >$2.93</td>\n",
       "                        <td id=\"T_0d909_row5_col2\" class=\"data row5 col2\" >$214.00</td>\n",
       "                        <td id=\"T_0d909_row5_col3\" class=\"data row5 col3\" >$4.12</td>\n",
       "            </tr>\n",
       "            <tr>\n",
       "                        <th id=\"T_0d909_level0_row6\" class=\"row_heading level0 row6\" >35-39</th>\n",
       "                        <td id=\"T_0d909_row6_col0\" class=\"data row6 col0\" >41</td>\n",
       "                        <td id=\"T_0d909_row6_col1\" class=\"data row6 col1\" >$3.60</td>\n",
       "                        <td id=\"T_0d909_row6_col2\" class=\"data row6 col2\" >$147.67</td>\n",
       "                        <td id=\"T_0d909_row6_col3\" class=\"data row6 col3\" >$4.76</td>\n",
       "            </tr>\n",
       "            <tr>\n",
       "                        <th id=\"T_0d909_level0_row7\" class=\"row_heading level0 row7\" >40+</th>\n",
       "                        <td id=\"T_0d909_row7_col0\" class=\"data row7 col0\" >13</td>\n",
       "                        <td id=\"T_0d909_row7_col1\" class=\"data row7 col1\" >$2.94</td>\n",
       "                        <td id=\"T_0d909_row7_col2\" class=\"data row7 col2\" >$38.24</td>\n",
       "                        <td id=\"T_0d909_row7_col3\" class=\"data row7 col3\" >$3.19</td>\n",
       "            </tr>\n",
       "    </tbody></table>"
      ],
      "text/plain": [
       "<pandas.io.formats.style.Styler at 0x7fa2d91b75b0>"
      ]
     },
     "execution_count": 258,
     "metadata": {},
     "output_type": "execute_result"
    }
   ],
   "source": [
    "purchases_age_groupby = purchase_data_df.groupby([\"Age Ranges\"]) # Create groupby to focus on Age Range\n",
    "\n",
    "age_purch_df = pd.DataFrame({\"Purchase Count\": \n",
    "                             purchases_age_groupby[\"Purchase ID\"].count(), # Total purchase by age using .count()\n",
    "                                \n",
    "                            \"Average Purchase Price\" : \n",
    "                             purchases_age_groupby[\"Price\"].mean(), # Average purchase price using .mean()\n",
    "                                \n",
    "                            \"Total Purchase Value\" : \n",
    "                             purchases_age_groupby[\"Price\"].sum(), # Total purchase value using .sum()\n",
    "                          \n",
    "                            \"Avg Total Purchase per Person\" :         # Total purchase value\n",
    "                             purchases_age_groupby[\"Price\"].sum() /   # using data from the demographic\n",
    "                             age_demog_df[\"Total Count\"]    })        # dataframe in the previous segment\n",
    "                                                                \n",
    "\n",
    "age_purch_df.style.format(format_dict)    # Print calling the style format function \n",
    "                                          # at the beginning of this notebook"
   ]
  },
  {
   "cell_type": "markdown",
   "metadata": {},
   "source": [
    "## Top Spenders"
   ]
  },
  {
   "cell_type": "markdown",
   "metadata": {},
   "source": [
    "* Run basic calculations to obtain the results in the table below\n",
    "\n",
    "\n",
    "* Create a summary data frame to hold the results\n",
    "\n",
    "\n",
    "* Sort the total purchase value column in descending order\n",
    "\n",
    "\n",
    "* Optional: give the displayed data cleaner formatting\n",
    "\n",
    "\n",
    "* Display a preview of the summary data frame\n",
    "\n"
   ]
  },
  {
   "cell_type": "code",
   "execution_count": 259,
   "metadata": {},
   "outputs": [
    {
     "data": {
      "text/html": [
       "<style  type=\"text/css\" >\n",
       "</style><table id=\"T_ab8c4_\" ><thead>    <tr>        <th class=\"blank level0\" ></th>        <th class=\"col_heading level0 col0\" >Purchase Count</th>        <th class=\"col_heading level0 col1\" >Average Purchase Price</th>        <th class=\"col_heading level0 col2\" >Total Purchase Value</th>    </tr>    <tr>        <th class=\"index_name level0\" >SN</th>        <th class=\"blank\" ></th>        <th class=\"blank\" ></th>        <th class=\"blank\" ></th>    </tr></thead><tbody>\n",
       "                <tr>\n",
       "                        <th id=\"T_ab8c4_level0_row0\" class=\"row_heading level0 row0\" >Lisosia93</th>\n",
       "                        <td id=\"T_ab8c4_row0_col0\" class=\"data row0 col0\" >5</td>\n",
       "                        <td id=\"T_ab8c4_row0_col1\" class=\"data row0 col1\" >$3.79</td>\n",
       "                        <td id=\"T_ab8c4_row0_col2\" class=\"data row0 col2\" >$18.96</td>\n",
       "            </tr>\n",
       "            <tr>\n",
       "                        <th id=\"T_ab8c4_level0_row1\" class=\"row_heading level0 row1\" >Idastidru52</th>\n",
       "                        <td id=\"T_ab8c4_row1_col0\" class=\"data row1 col0\" >4</td>\n",
       "                        <td id=\"T_ab8c4_row1_col1\" class=\"data row1 col1\" >$3.86</td>\n",
       "                        <td id=\"T_ab8c4_row1_col2\" class=\"data row1 col2\" >$15.45</td>\n",
       "            </tr>\n",
       "            <tr>\n",
       "                        <th id=\"T_ab8c4_level0_row2\" class=\"row_heading level0 row2\" >Chamjask73</th>\n",
       "                        <td id=\"T_ab8c4_row2_col0\" class=\"data row2 col0\" >3</td>\n",
       "                        <td id=\"T_ab8c4_row2_col1\" class=\"data row2 col1\" >$4.61</td>\n",
       "                        <td id=\"T_ab8c4_row2_col2\" class=\"data row2 col2\" >$13.83</td>\n",
       "            </tr>\n",
       "            <tr>\n",
       "                        <th id=\"T_ab8c4_level0_row3\" class=\"row_heading level0 row3\" >Iral74</th>\n",
       "                        <td id=\"T_ab8c4_row3_col0\" class=\"data row3 col0\" >4</td>\n",
       "                        <td id=\"T_ab8c4_row3_col1\" class=\"data row3 col1\" >$3.40</td>\n",
       "                        <td id=\"T_ab8c4_row3_col2\" class=\"data row3 col2\" >$13.62</td>\n",
       "            </tr>\n",
       "            <tr>\n",
       "                        <th id=\"T_ab8c4_level0_row4\" class=\"row_heading level0 row4\" >Iskadarya95</th>\n",
       "                        <td id=\"T_ab8c4_row4_col0\" class=\"data row4 col0\" >3</td>\n",
       "                        <td id=\"T_ab8c4_row4_col1\" class=\"data row4 col1\" >$4.37</td>\n",
       "                        <td id=\"T_ab8c4_row4_col2\" class=\"data row4 col2\" >$13.10</td>\n",
       "            </tr>\n",
       "    </tbody></table>"
      ],
      "text/plain": [
       "<pandas.io.formats.style.Styler at 0x7fa2f92dc730>"
      ]
     },
     "execution_count": 259,
     "metadata": {},
     "output_type": "execute_result"
    }
   ],
   "source": [
    "spenders_groupby = purchase_data_df.groupby([\"SN\"]) # Create groupby to focus on Age Range\n",
    "\n",
    "spenders_df = pd.DataFrame({\"Purchase Count\": \n",
    "                            spenders_groupby[\"Purchase ID\"].count(), # Total purchase by spender using .count()\n",
    "                                \n",
    "                            \"Average Purchase Price\" : \n",
    "                            spenders_groupby[\"Price\"].mean(), # Average purchase price using .mean()         \n",
    "                                \n",
    "                            \"Total Purchase Value\" : \n",
    "                            spenders_groupby[\"Price\"].sum()}) # Total purchase value using .sum()\n",
    "                                                             \n",
    "top_spenders_df = (spenders_df.sort_values([\"Total Purchase Value\"], ascending=False)) # Sort for biggest spenders\n",
    "\n",
    "top_spenders_df.head().style.format(format_dict)  # Print calling the style format function \n",
    "                                                  # at the beginning of this notebook\n",
    "\n"
   ]
  },
  {
   "cell_type": "markdown",
   "metadata": {},
   "source": [
    "## Most Popular Items"
   ]
  },
  {
   "cell_type": "markdown",
   "metadata": {},
   "source": [
    "* Retrieve the Item ID, Item Name, and Item Price columns\n",
    "\n",
    "\n",
    "* Group by Item ID and Item Name. Perform calculations to obtain purchase count, average item price, and total purchase value\n",
    "\n",
    "\n",
    "* Create a summary data frame to hold the results\n",
    "\n",
    "\n",
    "* Sort the purchase count column in descending order\n",
    "\n",
    "\n",
    "* Optional: give the displayed data cleaner formatting\n",
    "\n",
    "\n",
    "* Display a preview of the summary data frame\n",
    "\n"
   ]
  },
  {
   "cell_type": "code",
   "execution_count": 260,
   "metadata": {},
   "outputs": [
    {
     "data": {
      "text/html": [
       "<style  type=\"text/css\" >\n",
       "</style><table id=\"T_f66a7_\" ><thead>    <tr>        <th class=\"blank\" ></th>        <th class=\"blank level0\" ></th>        <th class=\"col_heading level0 col0\" >Purchase Count</th>        <th class=\"col_heading level0 col1\" >Item Price</th>        <th class=\"col_heading level0 col2\" >Total Purchase Value</th>    </tr>    <tr>        <th class=\"index_name level0\" >Item ID</th>        <th class=\"index_name level1\" >Item Name</th>        <th class=\"blank\" ></th>        <th class=\"blank\" ></th>        <th class=\"blank\" ></th>    </tr></thead><tbody>\n",
       "                <tr>\n",
       "                        <th id=\"T_f66a7_level0_row0\" class=\"row_heading level0 row0\" >92</th>\n",
       "                        <th id=\"T_f66a7_level1_row0\" class=\"row_heading level1 row0\" >Final Critic</th>\n",
       "                        <td id=\"T_f66a7_row0_col0\" class=\"data row0 col0\" >13</td>\n",
       "                        <td id=\"T_f66a7_row0_col1\" class=\"data row0 col1\" >$4.61</td>\n",
       "                        <td id=\"T_f66a7_row0_col2\" class=\"data row0 col2\" >$59.99</td>\n",
       "            </tr>\n",
       "            <tr>\n",
       "                        <th id=\"T_f66a7_level0_row1\" class=\"row_heading level0 row1\" >178</th>\n",
       "                        <th id=\"T_f66a7_level1_row1\" class=\"row_heading level1 row1\" >Oathbreaker, Last Hope of the Breaking Storm</th>\n",
       "                        <td id=\"T_f66a7_row1_col0\" class=\"data row1 col0\" >12</td>\n",
       "                        <td id=\"T_f66a7_row1_col1\" class=\"data row1 col1\" >$4.23</td>\n",
       "                        <td id=\"T_f66a7_row1_col2\" class=\"data row1 col2\" >$50.76</td>\n",
       "            </tr>\n",
       "            <tr>\n",
       "                        <th id=\"T_f66a7_level0_row2\" class=\"row_heading level0 row2\" >145</th>\n",
       "                        <th id=\"T_f66a7_level1_row2\" class=\"row_heading level1 row2\" >Fiery Glass Crusader</th>\n",
       "                        <td id=\"T_f66a7_row2_col0\" class=\"data row2 col0\" >9</td>\n",
       "                        <td id=\"T_f66a7_row2_col1\" class=\"data row2 col1\" >$4.58</td>\n",
       "                        <td id=\"T_f66a7_row2_col2\" class=\"data row2 col2\" >$41.22</td>\n",
       "            </tr>\n",
       "            <tr>\n",
       "                        <th id=\"T_f66a7_level0_row3\" class=\"row_heading level0 row3\" >132</th>\n",
       "                        <th id=\"T_f66a7_level1_row3\" class=\"row_heading level1 row3\" >Persuasion</th>\n",
       "                        <td id=\"T_f66a7_row3_col0\" class=\"data row3 col0\" >9</td>\n",
       "                        <td id=\"T_f66a7_row3_col1\" class=\"data row3 col1\" >$3.22</td>\n",
       "                        <td id=\"T_f66a7_row3_col2\" class=\"data row3 col2\" >$28.99</td>\n",
       "            </tr>\n",
       "            <tr>\n",
       "                        <th id=\"T_f66a7_level0_row4\" class=\"row_heading level0 row4\" >108</th>\n",
       "                        <th id=\"T_f66a7_level1_row4\" class=\"row_heading level1 row4\" >Extraction, Quickblade Of Trembling Hands</th>\n",
       "                        <td id=\"T_f66a7_row4_col0\" class=\"data row4 col0\" >9</td>\n",
       "                        <td id=\"T_f66a7_row4_col1\" class=\"data row4 col1\" >$3.53</td>\n",
       "                        <td id=\"T_f66a7_row4_col2\" class=\"data row4 col2\" >$31.77</td>\n",
       "            </tr>\n",
       "    </tbody></table>"
      ],
      "text/plain": [
       "<pandas.io.formats.style.Styler at 0x7fa2d91d6b20>"
      ]
     },
     "execution_count": 260,
     "metadata": {},
     "output_type": "execute_result"
    }
   ],
   "source": [
    "items_groupby = purchase_data_df.groupby([\"Item ID\", \"Item Name\"]) # Create groupby to focus on Age Range\n",
    "\n",
    "items_df = pd.DataFrame({\"Purchase Count\": \n",
    "                        items_groupby[\"Purchase ID\"].count(), # Total purchase by item using .count()\n",
    "                                \n",
    "                        \"Item Price\" : items_groupby[\"Price\"].mean(), # Average purchase price using .mean()\n",
    "                                    \n",
    "                        \"Total Purchase Value\" : items_groupby[\"Price\"].sum()}) # Total purchase value using .sum()\n",
    "                                      \n",
    "top_items_df = (items_df.sort_values([\"Purchase Count\"], ascending=False)) # Sort for biggest spenders\n",
    "\n",
    "top_items_df.head().style.format(format_dict)    # Print calling the style format function \n",
    "                                          # at the beginning of this notebook         "
   ]
  },
  {
   "cell_type": "markdown",
   "metadata": {},
   "source": [
    "## Most Profitable Items"
   ]
  },
  {
   "cell_type": "markdown",
   "metadata": {},
   "source": [
    "* Sort the above table by total purchase value in descending order\n",
    "\n",
    "\n",
    "* Optional: give the displayed data cleaner formatting\n",
    "\n",
    "\n",
    "* Display a preview of the data frame\n",
    "\n"
   ]
  },
  {
   "cell_type": "code",
   "execution_count": 261,
   "metadata": {
    "scrolled": true
   },
   "outputs": [
    {
     "data": {
      "text/html": [
       "<style  type=\"text/css\" >\n",
       "</style><table id=\"T_51d8f_\" ><thead>    <tr>        <th class=\"blank\" ></th>        <th class=\"blank level0\" ></th>        <th class=\"col_heading level0 col0\" >Purchase Count</th>        <th class=\"col_heading level0 col1\" >Item Price</th>        <th class=\"col_heading level0 col2\" >Total Purchase Value</th>    </tr>    <tr>        <th class=\"index_name level0\" >Item ID</th>        <th class=\"index_name level1\" >Item Name</th>        <th class=\"blank\" ></th>        <th class=\"blank\" ></th>        <th class=\"blank\" ></th>    </tr></thead><tbody>\n",
       "                <tr>\n",
       "                        <th id=\"T_51d8f_level0_row0\" class=\"row_heading level0 row0\" >92</th>\n",
       "                        <th id=\"T_51d8f_level1_row0\" class=\"row_heading level1 row0\" >Final Critic</th>\n",
       "                        <td id=\"T_51d8f_row0_col0\" class=\"data row0 col0\" >13</td>\n",
       "                        <td id=\"T_51d8f_row0_col1\" class=\"data row0 col1\" >$4.61</td>\n",
       "                        <td id=\"T_51d8f_row0_col2\" class=\"data row0 col2\" >$59.99</td>\n",
       "            </tr>\n",
       "            <tr>\n",
       "                        <th id=\"T_51d8f_level0_row1\" class=\"row_heading level0 row1\" >178</th>\n",
       "                        <th id=\"T_51d8f_level1_row1\" class=\"row_heading level1 row1\" >Oathbreaker, Last Hope of the Breaking Storm</th>\n",
       "                        <td id=\"T_51d8f_row1_col0\" class=\"data row1 col0\" >12</td>\n",
       "                        <td id=\"T_51d8f_row1_col1\" class=\"data row1 col1\" >$4.23</td>\n",
       "                        <td id=\"T_51d8f_row1_col2\" class=\"data row1 col2\" >$50.76</td>\n",
       "            </tr>\n",
       "            <tr>\n",
       "                        <th id=\"T_51d8f_level0_row2\" class=\"row_heading level0 row2\" >82</th>\n",
       "                        <th id=\"T_51d8f_level1_row2\" class=\"row_heading level1 row2\" >Nirvana</th>\n",
       "                        <td id=\"T_51d8f_row2_col0\" class=\"data row2 col0\" >9</td>\n",
       "                        <td id=\"T_51d8f_row2_col1\" class=\"data row2 col1\" >$4.90</td>\n",
       "                        <td id=\"T_51d8f_row2_col2\" class=\"data row2 col2\" >$44.10</td>\n",
       "            </tr>\n",
       "            <tr>\n",
       "                        <th id=\"T_51d8f_level0_row3\" class=\"row_heading level0 row3\" >145</th>\n",
       "                        <th id=\"T_51d8f_level1_row3\" class=\"row_heading level1 row3\" >Fiery Glass Crusader</th>\n",
       "                        <td id=\"T_51d8f_row3_col0\" class=\"data row3 col0\" >9</td>\n",
       "                        <td id=\"T_51d8f_row3_col1\" class=\"data row3 col1\" >$4.58</td>\n",
       "                        <td id=\"T_51d8f_row3_col2\" class=\"data row3 col2\" >$41.22</td>\n",
       "            </tr>\n",
       "            <tr>\n",
       "                        <th id=\"T_51d8f_level0_row4\" class=\"row_heading level0 row4\" >103</th>\n",
       "                        <th id=\"T_51d8f_level1_row4\" class=\"row_heading level1 row4\" >Singed Scalpel</th>\n",
       "                        <td id=\"T_51d8f_row4_col0\" class=\"data row4 col0\" >8</td>\n",
       "                        <td id=\"T_51d8f_row4_col1\" class=\"data row4 col1\" >$4.35</td>\n",
       "                        <td id=\"T_51d8f_row4_col2\" class=\"data row4 col2\" >$34.80</td>\n",
       "            </tr>\n",
       "    </tbody></table>"
      ],
      "text/plain": [
       "<pandas.io.formats.style.Styler at 0x7fa309a40a00>"
      ]
     },
     "execution_count": 261,
     "metadata": {},
     "output_type": "execute_result"
    }
   ],
   "source": [
    "# New sort, by total purchase value:\n",
    "top_items_profit_df = top_items_df.sort_values([\"Total Purchase Value\"], ascending=False) \n",
    "\n",
    "top_items_profit_df.head().style.format(format_dict)    # Print calling the style format function \n",
    "                                                        # at the beginning of this notebook"
   ]
  },
  {
   "cell_type": "code",
   "execution_count": null,
   "metadata": {},
   "outputs": [],
   "source": []
  }
 ],
 "metadata": {
  "anaconda-cloud": {},
  "kernel_info": {
   "name": "python3"
  },
  "kernelspec": {
   "display_name": "Python 3",
   "language": "python",
   "name": "python3"
  },
  "language_info": {
   "codemirror_mode": {
    "name": "ipython",
    "version": 3
   },
   "file_extension": ".py",
   "mimetype": "text/x-python",
   "name": "python",
   "nbconvert_exporter": "python",
   "pygments_lexer": "ipython3",
   "version": "3.8.5"
  },
  "latex_envs": {
   "LaTeX_envs_menu_present": true,
   "autoclose": false,
   "autocomplete": true,
   "bibliofile": "biblio.bib",
   "cite_by": "apalike",
   "current_citInitial": 1,
   "eqLabelWithNumbers": true,
   "eqNumInitial": 1,
   "hotkeys": {
    "equation": "Ctrl-E",
    "itemize": "Ctrl-I"
   },
   "labels_anchors": false,
   "latex_user_defs": false,
   "report_style_numbering": false,
   "user_envs_cfg": false
  },
  "nteract": {
   "version": "0.2.0"
  }
 },
 "nbformat": 4,
 "nbformat_minor": 4
}
